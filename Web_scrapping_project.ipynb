{
  "cells": [
    {
      "cell_type": "code",
      "source": [
        "from bs4 import BeautifulSoup\n",
        "import requests"
      ],
      "metadata": {
        "id": "RAVQXSX7UUsU"
      },
      "id": "RAVQXSX7UUsU",
      "execution_count": 19,
      "outputs": []
    },
    {
      "cell_type": "code",
      "execution_count": 20,
      "id": "be6658e9",
      "metadata": {
        "id": "be6658e9",
        "outputId": "bce675d0-2242-4484-a1dc-3f569f60926d",
        "colab": {
          "base_uri": "https://localhost:8080/"
        }
      },
      "outputs": [
        {
          "output_type": "stream",
          "name": "stdout",
          "text": [
            "<!DOCTYPE html>\n",
            "<html lang=\"en\">\n",
            " <head>\n",
            "  <meta charset=\"utf-8\"/>\n",
            "  <meta content=\"width=device-width, initial-scale=1, shrink-to-fit=no\" name=\"viewport\"/>\n",
            "  <link crossorigin=\"anonymous\" href=\"https://stackpath.bootstrapcdn.com/bootstrap/4.5.2/css/bootstrap.min.css\" integrity=\"sha384-JcKb8q3iqJ61gNV9KGb8thSsNjpSL0n8PARn9HuZOnIxN0hoP+VmmDGMN5t9UJ0Z\" rel=\"stylesheet\"/>\n",
            "  <title>\n",
            "   My Courses\n",
            "  </title>\n",
            " </head>\n",
            " <body>\n",
            "  <h1>\n",
            "   Hello, Start Learning!\n",
            "  </h1>\n",
            "  <div class=\"card\" id=\"card-python-for-beginners\">\n",
            "   <div class=\"card-header\">\n",
            "    Python\n",
            "   </div>\n",
            "   <div class=\"card-body\">\n",
            "    <h5 class=\"card-title\">\n",
            "     Python for beginners\n",
            "    </h5>\n",
            "    <p class=\"card-text\">\n",
            "     If you are new to Python, this is the course that you should buy!\n",
            "    </p>\n",
            "    <a class=\"btn btn-primary\" href=\"#\">\n",
            "     Start for 2000\n",
            "    </a>\n",
            "   </div>\n",
            "  </div>\n",
            "  <div class=\"card\" id=\"card-python-web-development\">\n",
            "   <div class=\"card-header\">\n",
            "    Python\n",
            "   </div>\n",
            "   <div class=\"card-body\">\n",
            "    <h5 class=\"card-title\">\n",
            "     Python Web Development\n",
            "    </h5>\n",
            "    <p class=\"card-text\">\n",
            "     If you feel enough confident with python, you are ready to learn how to create your own website!\n",
            "    </p>\n",
            "    <a class=\"btn btn-primary\" href=\"#\">\n",
            "     Start for 3000\n",
            "    </a>\n",
            "   </div>\n",
            "  </div>\n",
            "  <div class=\"card\" id=\"card-python-machine-learning\">\n",
            "   <div class=\"card-header\">\n",
            "    Python\n",
            "   </div>\n",
            "   <div class=\"card-body\">\n",
            "    <h5 class=\"card-title\">\n",
            "     Python Machine Learning\n",
            "    </h5>\n",
            "    <p class=\"card-text\">\n",
            "     Become a Python Machine Learning master!\n",
            "    </p>\n",
            "    <a class=\"btn btn-primary\" href=\"#\">\n",
            "     Start for 4000\n",
            "    </a>\n",
            "   </div>\n",
            "  </div>\n",
            " </body>\n",
            "</html>\n",
            "\n"
          ]
        }
      ],
      "source": [
        "#read example .html file\n",
        "with open('html_code.html','r') as html_file:\n",
        "    content=html_file.read()\n",
        "\n",
        "    soup=BeautifulSoup(content, 'lxml')\n",
        "    print(soup.prettify())"
      ]
    },
    {
      "cell_type": "code",
      "execution_count": 21,
      "id": "78ccaff5",
      "metadata": {
        "id": "78ccaff5",
        "outputId": "b6be3c50-f4dc-4b7e-b071-e6a4e7421874",
        "colab": {
          "base_uri": "https://localhost:8080/"
        }
      },
      "outputs": [
        {
          "output_type": "stream",
          "name": "stdout",
          "text": [
            "<h5 class=\"card-title\">Python for beginners</h5>\n"
          ]
        }
      ],
      "source": [
        "with open('html_code.html','r') as html_file:\n",
        "    content=html_file.read()\n",
        "\n",
        "    soup=BeautifulSoup(content, 'lxml')\n",
        "    tags=soup.find('h5')\n",
        "    #tags=soup.find_all('h5')\n",
        "    print(tags)"
      ]
    },
    {
      "cell_type": "code",
      "execution_count": 22,
      "id": "f1a41266",
      "metadata": {
        "id": "f1a41266",
        "outputId": "dd7570de-fbe2-458a-ca65-f548aa481325",
        "colab": {
          "base_uri": "https://localhost:8080/"
        }
      },
      "outputs": [
        {
          "output_type": "stream",
          "name": "stdout",
          "text": [
            "Python for beginners\n",
            "Python Web Development\n",
            "Python Machine Learning\n"
          ]
        }
      ],
      "source": [
        "with open('html_code.html','r') as html_file:\n",
        "    content=html_file.read()\n",
        "\n",
        "    soup=BeautifulSoup(content, 'lxml')\n",
        "    tags=soup.find_all('h5')\n",
        "    for taging in tags:\n",
        "        print(taging.text)\n"
      ]
    },
    {
      "cell_type": "code",
      "execution_count": 23,
      "id": "1402c326",
      "metadata": {
        "id": "1402c326",
        "outputId": "d84aa16c-93b7-4c32-cdcc-aad7ae2e08c0",
        "colab": {
          "base_uri": "https://localhost:8080/"
        }
      },
      "outputs": [
        {
          "output_type": "stream",
          "name": "stdout",
          "text": [
            "Course Name: Python for beginners\n",
            "Course Price: Start for 2000\n",
            "Course Name: Python Web Development\n",
            "Course Price: Start for 3000\n",
            "Course Name: Python Machine Learning\n",
            "Course Price: Start for 4000\n",
            "            \n"
          ]
        }
      ],
      "source": [
        "from bs4 import BeautifulSoup\n",
        "\n",
        "with open('html_code.html', 'r') as html_file:\n",
        "    content = html_file.read()\n",
        "\n",
        "    soup = BeautifulSoup(content, 'lxml')\n",
        "    cards = soup.find_all('div', class_='card')\n",
        "\n",
        "    for course in cards:\n",
        "        course_name = course.h5.text#.split()[-1]\n",
        "\n",
        "        # Check if course.a exists before accessing its text attribute\n",
        "        course_price_tag = course.a\n",
        "        if course_price_tag:\n",
        "            course_price = course_price_tag.text\n",
        "            print(\"Course Name:\", course_name)\n",
        "            print(\"Course Price:\", course_price)\n",
        "        else:\n",
        "            print(\"Course Name:\", course_name)\n",
        "            print(\"Course Price: Price not available\")\n"
      ]
    },
    {
      "cell_type": "code",
      "execution_count": 24,
      "id": "10fd2843",
      "metadata": {
        "id": "10fd2843",
        "outputId": "55473496-8b60-4457-e218-f054bcdf2267",
        "colab": {
          "base_uri": "https://localhost:8080/"
        }
      },
      "outputs": [
        {
          "output_type": "stream",
          "name": "stdout",
          "text": [
            "\n",
            "    Wing Global IT Services\n",
            "    \n",
            "    \n"
          ]
        }
      ],
      "source": [
        "from bs4 import BeautifulSoup\n",
        "import requests\n",
        "\n",
        "html_text=requests.get(\"https://www.timesjobs.com/candidate/job-search.html?searchType=personalizedSearch&from=submit&searchTextSrc=as&searchTextText=Python&txtKeywords=Python&txtLocation=\").text\n",
        "soup=BeautifulSoup(html_text, 'lxml')\n",
        "jobs=soup.find('li',class_=\"clearfix job-bx wht-shd-bx\")\n",
        "company_name=jobs.find('h3',class_='joblist-comp-name').text#.replace(' ','')\n",
        "print(company_name)"
      ]
    },
    {
      "cell_type": "code",
      "execution_count": 25,
      "id": "0de6dd9c",
      "metadata": {
        "id": "0de6dd9c",
        "outputId": "2bf61664-fe98-4095-fd8b-b6a9f5584d1e",
        "colab": {
          "base_uri": "https://localhost:8080/"
        }
      },
      "outputs": [
        {
          "output_type": "stream",
          "name": "stdout",
          "text": [
            "\n",
            "      \n",
            "          spring boot  ,  python  ,  java  ,  django  ,  jpa  ,  hibernate\n",
            "        \n",
            "      \n"
          ]
        }
      ],
      "source": [
        "skills=jobs.find('span',class_='srp-skills').text#.replace(' ','')\n",
        "print(skills)"
      ]
    },
    {
      "cell_type": "code",
      "execution_count": 26,
      "id": "06849ccb",
      "metadata": {
        "id": "06849ccb",
        "outputId": "747f0b5a-bdc6-420e-92c0-bd279a558a28",
        "colab": {
          "base_uri": "https://localhost:8080/"
        }
      },
      "outputs": [
        {
          "output_type": "stream",
          "name": "stdout",
          "text": [
            "\n",
            "company name: \n",
            "    Wing Global IT Services\n",
            "    \n",
            "    \n",
            "require skill: \n",
            "      \n",
            "          spring boot  ,  python  ,  java  ,  django  ,  jpa  ,  hibernate\n",
            "        \n",
            "      \n",
            "\n"
          ]
        }
      ],
      "source": [
        "print(f'''\n",
        "company name: {company_name}\n",
        "require skill: {skills}\n",
        "''')"
      ]
    },
    {
      "cell_type": "code",
      "execution_count": 27,
      "id": "a164a728",
      "metadata": {
        "id": "a164a728",
        "outputId": "225693e3-a26c-4732-e4bd-d8370af1283d",
        "colab": {
          "base_uri": "https://localhost:8080/"
        }
      },
      "outputs": [
        {
          "output_type": "stream",
          "name": "stdout",
          "text": [
            "\n",
            "Posted 2 days ago\n",
            "\n"
          ]
        }
      ],
      "source": [
        "published_date=jobs.find('span',class_='sim-posted').text\n",
        "print(published_date)"
      ]
    },
    {
      "cell_type": "code",
      "execution_count": 28,
      "id": "a1cb5812",
      "metadata": {
        "id": "a1cb5812",
        "outputId": "430b8e29-0c94-4ed9-d1f8-9c1067c3f1bd",
        "colab": {
          "base_uri": "https://localhost:8080/"
        }
      },
      "outputs": [
        {
          "output_type": "stream",
          "name": "stdout",
          "text": [
            "\n",
            "    company name: \n",
            "WingGlobalITServices\n",
            "\n",
            "\n",
            "    require skill: \n",
            "\n",
            "springboot,python,java,django,jpa,hibernate\n",
            "\n",
            "\n",
            "    \n",
            "\n",
            "\n",
            "    company name: \n",
            "eastindiasecuritiesltd.\n",
            "\n",
            "\n",
            "    require skill: \n",
            "python,hadoop,machinelearning\n",
            "\n",
            "\n",
            "    \n",
            "\n",
            "\n",
            "    company name: \n",
            "RootInfoSolutions\n",
            "\n",
            "\n",
            "    require skill: \n",
            "python2,python3,django,javascript,html,postgresql/mysql,restapi,celeryrabbitmq,redis.,css,oop\n",
            "\n",
            "\n",
            "    \n",
            "\n",
            "\n",
            "    company name: \n",
            "arttechnologyandsoftwareindiapvtltd\n",
            "\n",
            "\n",
            "    require skill: \n",
            "\n",
            "rest,python,database,django,api\n",
            "\n",
            "\n",
            "    \n",
            "\n",
            "\n",
            "    company name: \n",
            "destinyhrgroupservices\n",
            "\n",
            "\n",
            "    require skill: \n",
            "\n",
            "fundamentals,python,css,javascript,jquery,database,django,java,json,html\n",
            "\n",
            "\n",
            "    \n",
            "\n",
            "\n",
            "    company name: \n",
            "DREAMAJAXTECHNOLOGIES\n",
            "\n",
            "\n",
            "    require skill: \n",
            "python,django,api,sql,nosql\n",
            "\n",
            "\n",
            "    \n",
            "\n",
            "\n",
            "    company name: \n",
            "day1technologies\n",
            "\n",
            "\n",
            "    require skill: \n",
            "\n",
            "rest,python,django,git,postgresql,sql,docker\n",
            "\n",
            "\n",
            "    \n",
            "\n",
            "\n",
            "    company name: \n",
            "NTTDataVertexSoftwareInc.\n",
            "\n",
            "\n",
            "    require skill: \n",
            "pythonprogramming,nodejs,agilemethodologies,communication,softwaredevelopment,technologyconsulting\n",
            "\n",
            "\n",
            "    \n",
            "\n",
            "\n",
            "    company name: \n",
            "xoniertechnologiespvtltd\n",
            "\n",
            "\n",
            "    require skill: \n",
            "python,django,testingtools,debugging,storage\n",
            "\n",
            "\n",
            "    \n",
            "\n",
            "\n",
            "    company name: \n",
            "INFINITYGROUP\n",
            "\n",
            "\n",
            "    require skill: \n",
            "python,css,django,html,bootstrap\n",
            "\n",
            "\n",
            "    \n",
            "\n",
            "\n",
            "    company name: \n",
            "brancosoft\n",
            "\n",
            "\n",
            "    require skill: \n",
            "\n",
            "html5,oop,security,postgresql,mysql,rest,python,javascript,django,soap\n",
            "\n",
            "\n",
            "    \n",
            "\n",
            "\n",
            "    company name: \n",
            "beechividyakendra\n",
            "\n",
            "\n",
            "    require skill: \n",
            "\n",
            "bigdata/python,aws,backendwebdevelopment,flask/django/fastapi,ci/cdpractices,technologyconsulting\n",
            "\n",
            "\n",
            "    \n",
            "\n",
            "\n",
            "    company name: \n",
            "NLivenTechnologiesPvt.Ltd.\n",
            "\n",
            "\n",
            "    require skill: \n",
            "\n",
            "rest,python,html5,javascript,jquery,nosql,security,django,git,oops,mysql\n",
            "\n",
            "\n",
            "    \n",
            "\n",
            "\n",
            "    company name: \n",
            "InnOvatorWebSolutionsPvt.Ltd.\n",
            "\n",
            "\n",
            "    require skill: \n",
            "\n",
            "rest,python,django,webdeveloper,mysql,api\n",
            "\n",
            "\n",
            "    \n",
            "\n",
            "\n",
            "    company name: \n",
            "AxisTechnolabs\n",
            "\n",
            "\n",
            "    require skill: \n",
            "python,django,itskills,html5,api,jquery\n",
            "\n",
            "\n",
            "    \n",
            "\n",
            "\n",
            "    company name: \n",
            "SourcedeskGlobalPrivateLimited\n",
            "\n",
            "\n",
            "    require skill: \n",
            "\n",
            "html5,storage,python,javascript,django,infrastructure\n",
            "\n",
            "\n",
            "    \n",
            "\n",
            "\n",
            "    company name: \n",
            "CONNECTING2WORK\n",
            "\n",
            "\n",
            "    require skill: \n",
            "python,storage,django,testingtools,debugging\n",
            "\n",
            "\n",
            "    \n",
            "\n",
            "\n",
            "    company name: \n",
            "NTTDataVertexSoftwareInc.\n",
            "\n",
            "\n",
            "    require skill: \n",
            "pythonprogramming,nodejs,agilemethodologies,communicationskills,softwaredevelopment,technologyconsulting\n",
            "\n",
            "\n",
            "    \n",
            "\n",
            "\n",
            "    company name: \n",
            "innefulabspvt.ltd.\n",
            "\n",
            "\n",
            "    require skill: \n",
            "python,database,django,neo4j,mining,webcrawling\n",
            "\n",
            "\n",
            "    \n",
            "\n",
            "\n",
            "    company name: \n",
            "inflexitechnologiespvtltd\n",
            "\n",
            "\n",
            "    require skill: \n",
            "\n",
            "algorithms,python,css,naturallanguageprocessing,problemsolving,teamplayer,machinelearning,ajax,javascript,jquery,database,postgresql,xml,messagequeue,debugging,datastructures,mysql,html,api\n",
            "\n",
            "\n",
            "    \n",
            "\n",
            "\n",
            "    company name: \n",
            "CANVERATRADERSPRIVATELIMITED\n",
            "\n",
            "\n",
            "    require skill: \n",
            "python,rdbms,javascript,sql,spring,springboot,django,java\n",
            "\n",
            "\n",
            "    \n",
            "\n",
            "\n",
            "    company name: \n",
            "magnarustechnologiesprivatelimited\n",
            "\n",
            "\n",
            "    require skill: \n",
            "\n",
            "imageprocessing,python,c,cprogramming,operatingsystem,teamplayer,database,mysql,unix\n",
            "\n",
            "\n",
            "    \n",
            "\n",
            "\n",
            "    company name: \n",
            "AxisTechnolabs\n",
            "\n",
            "\n",
            "    require skill: \n",
            "python,css,userinteraction,bootstrap,openerp,database,xml,oops,html\n",
            "\n",
            "\n",
            "    \n",
            "\n",
            "\n",
            "    company name: \n",
            "pegasusknowledgesolutionsindiapvtltd.\n",
            "\n",
            "\n",
            "    require skill: \n",
            "python,css,django,java,html,bootstrap,api,jquery,sql\n",
            "\n",
            "\n",
            "    \n",
            "\n",
            "\n",
            "    company name: \n",
            "TechasoftPvtLtd\n",
            "\n",
            "\n",
            "    require skill: \n",
            "python,javascript,docker,django,postgresql,oops,mysql,mongodb,opencv\n",
            "\n",
            "\n",
            "    \n",
            "\n"
          ]
        }
      ],
      "source": [
        "from bs4 import BeautifulSoup\n",
        "import requests\n",
        "\n",
        "html_text=requests.get(\"https://www.timesjobs.com/candidate/job-search.html?searchType=personalizedSearch&from=submit&searchTextSrc=as&searchTextText=Python&txtKeywords=Python&txtLocation=\").text\n",
        "soup=BeautifulSoup(html_text, 'lxml')\n",
        "jobs=soup.find_all('li',class_=\"clearfix job-bx wht-shd-bx\")\n",
        "for job in jobs:\n",
        "    company_name=job.find('h3',class_='joblist-comp-name').text.replace(' ','')\n",
        "    skills=job.find('span',class_='srp-skills').text.replace(' ','')\n",
        "    published_date=job.find('span',class_='sim-posted').text\n",
        "\n",
        "    print(f'''\n",
        "    company name: {company_name}\n",
        "    require skill: {skills}\n",
        "    ''')\n",
        "\n",
        "    print('')"
      ]
    },
    {
      "cell_type": "code",
      "execution_count": 29,
      "id": "a3efa1ef",
      "metadata": {
        "id": "a3efa1ef",
        "outputId": "cda7feff-ed91-44f0-e43c-2ebbc8581d6c",
        "colab": {
          "base_uri": "https://localhost:8080/"
        }
      },
      "outputs": [
        {
          "output_type": "stream",
          "name": "stdout",
          "text": [
            "company name: eastindiasecuritiesltd.\n",
            "require skill: python,hadoop,machinelearning\n",
            "more info: https://www.timesjobs.com/job-detail/python-engineer-east-india-securities-ltd-kolkata-2-to-5-yrs-jobid-KEkE19WqPbFzpSvf__PLUS__uAgZw==&source=srp\n",
            "\n",
            "company name: arttechnologyandsoftwareindiapvtltd\n",
            "require skill: rest,python,database,django,api\n",
            "more info: https://www.timesjobs.com/job-detail/python-developer-art-technology-and-software-india-pvt-ltd-cochin-kochi-ernakulam-2-to-3-yrs-jobid-M26lxDEd__PLUS__qtzpSvf__PLUS__uAgZw==&source=srp\n",
            "\n",
            "company name: DREAMAJAXTECHNOLOGIES\n",
            "require skill: python,django,api,sql,nosql\n",
            "more info: https://www.timesjobs.com/job-detail/python-developer-dreamajax-technologies-bengaluru-bangalore-4-to-7-yrs-jobid-EWIVCDzRLKBzpSvf__PLUS__uAgZw==&source=srp\n",
            "\n",
            "company name: day1technologies\n",
            "require skill: rest,python,django,git,postgresql,sql,docker\n",
            "more info: https://www.timesjobs.com/job-detail/python-developer-day1-technologies-bengaluru-bangalore-2-to-3-yrs-jobid-wnkkahyN0x9zpSvf__PLUS__uAgZw==&source=srp\n",
            "\n",
            "company name: xoniertechnologiespvtltd\n",
            "require skill: python,django,testingtools,debugging,storage\n",
            "more info: https://www.timesjobs.com/job-detail/python-developer-xonier-technologies-pvt-ltd-noida-greater-noida-2-to-5-yrs-jobid-VZ3nXzqL2FNzpSvf__PLUS__uAgZw==&source=srp\n",
            "\n",
            "company name: INFINITYGROUP\n",
            "require skill: python,css,django,html,bootstrap\n",
            "more info: https://www.timesjobs.com/job-detail/python-developer-infinity-group-noida-greater-noida-2-to-5-yrs-jobid-efOg3e9X__SLASH__D9zpSvf__PLUS__uAgZw==&source=srp\n",
            "\n",
            "company name: InnOvatorWebSolutionsPvt.Ltd.\n",
            "require skill: rest,python,django,webdeveloper,mysql,api\n",
            "more info: https://www.timesjobs.com/job-detail/python-developer-innovator-web-solutions-pvt-ltd-mumbai-5-to-8-yrs-jobid-OO__SLASH__Qb2Q7MfpzpSvf__PLUS__uAgZw==&source=srp\n",
            "\n",
            "company name: AxisTechnolabs\n",
            "require skill: python,django,itskills,html5,api,jquery\n",
            "more info: https://www.timesjobs.com/job-detail/python-odoo-axistechnolabs-ahmedabad-0-to-1-yrs-jobid-HzL8naalyxFzpSvf__PLUS__uAgZw==&source=srp\n",
            "\n",
            "company name: SourcedeskGlobalPrivateLimited\n",
            "require skill: html5,storage,python,javascript,django,infrastructure\n",
            "more info: https://www.timesjobs.com/job-detail/python-developer-sourcedesk-global-private-limited-kolkata-3-to-15-yrs-jobid-A27Uf03p2IJzpSvf__PLUS__uAgZw==&source=srp\n",
            "\n",
            "company name: CONNECTING2WORK\n",
            "require skill: python,storage,django,testingtools,debugging\n",
            "more info: https://www.timesjobs.com/job-detail/python-developer-connecting-2-work-thiruvananthapuram-5-to-10-yrs-jobid-Tebue__SLASH__8iTzVzpSvf__PLUS__uAgZw==&source=srp\n",
            "\n",
            "company name: innefulabspvt.ltd.\n",
            "require skill: python,database,django,neo4j,mining,webcrawling\n",
            "more info: https://www.timesjobs.com/job-detail/python-developer-innefu-labs-pvt-ltd-delhi-delhi-ncr-4-to-5-yrs-jobid-FxKbGzMsPBFzpSvf__PLUS__uAgZw==&source=srp\n",
            "\n",
            "company name: CANVERATRADERSPRIVATELIMITED\n",
            "require skill: python,rdbms,javascript,sql,spring,springboot,django,java\n",
            "more info: https://www.timesjobs.com/job-detail/python-developer-canvera-traders-private-limited-bengaluru-bangalore-5-to-8-yrs-jobid-eyvQsuRYuMpzpSvf__PLUS__uAgZw==&source=srp\n",
            "\n",
            "company name: magnarustechnologiesprivatelimited\n",
            "require skill: imageprocessing,python,c,cprogramming,operatingsystem,teamplayer,database,mysql,unix\n",
            "more info: https://www.timesjobs.com/job-detail/python-developer-magnarus-technologies-private-limited-hyderabad-secunderabad-1-to-3-yrs-jobid-l6loUoeRNOhzpSvf__PLUS__uAgZw==&source=srp\n",
            "\n",
            "company name: AxisTechnolabs\n",
            "require skill: python,css,userinteraction,bootstrap,openerp,database,xml,oops,html\n",
            "more info: https://www.timesjobs.com/job-detail/python-developer-axistechnolabs-ahmedabad-0-to-1-yrs-jobid-UqL7KgAUov1zpSvf__PLUS__uAgZw==&source=srp\n",
            "\n",
            "company name: pegasusknowledgesolutionsindiapvtltd.\n",
            "require skill: python,css,django,java,html,bootstrap,api,jquery,sql\n",
            "more info: https://www.timesjobs.com/job-detail/python-developer-pegasus-knowledge-solutions-india-pvt-ltd-bengaluru-bangalore-0-to-3-yrs-jobid-XiCKMhU2A29zpSvf__PLUS__uAgZw==&source=srp\n",
            "\n",
            "company name: TechasoftPvtLtd\n",
            "require skill: python,javascript,docker,django,postgresql,oops,mysql,mongodb,opencv\n",
            "more info: https://www.timesjobs.com/job-detail/python-developer-techasoft-pvt-ltd-bengaluru-bangalore-0-to-3-yrs-jobid-Zn8__SLASH__9rCyRjNzpSvf__PLUS__uAgZw==&source=srp\n",
            "\n"
          ]
        }
      ],
      "source": [
        "from bs4 import BeautifulSoup\n",
        "import requests\n",
        "\n",
        "html_text=requests.get(\"https://www.timesjobs.com/candidate/job-search.html?searchType=personalizedSearch&from=submit&searchTextSrc=as&searchTextText=Python&txtKeywords=Python&txtLocation=\").text\n",
        "soup=BeautifulSoup(html_text, 'lxml')\n",
        "jobs=soup.find_all('li',class_=\"clearfix job-bx wht-shd-bx\")\n",
        "for job in jobs:\n",
        "    published_date=job.find('span',class_='sim-posted').text\n",
        "    if 'few' in published_date:\n",
        "        company_name=job.find('h3',class_='joblist-comp-name').text.replace(' ','')\n",
        "        skills=job.find('span',class_='srp-skills').text.replace(' ','')\n",
        "        more_info=job.header.h2.a['href']\n",
        "        print(f\"company name: {company_name.strip()}\")\n",
        "        print(f\"require skill: {skills.strip()}\")\n",
        "        print(f\"more info: {more_info}\")\n",
        "\n",
        "        print('')"
      ]
    },
    {
      "cell_type": "code",
      "execution_count": 30,
      "id": "4f0a7d8c",
      "metadata": {
        "id": "4f0a7d8c",
        "outputId": "3c106a62-d721-40b6-c689-c391cb44e817",
        "colab": {
          "base_uri": "https://localhost:8080/"
        }
      },
      "outputs": [
        {
          "output_type": "stream",
          "name": "stdout",
          "text": [
            "put some skill that you are not familiar with\n",
            ">django\n",
            "filtering out django\n",
            "company name: eastindiasecuritiesltd.\n",
            "require skill: python,hadoop,machinelearning\n",
            "more info: https://www.timesjobs.com/job-detail/python-engineer-east-india-securities-ltd-kolkata-2-to-5-yrs-jobid-KEkE19WqPbFzpSvf__PLUS__uAgZw==&source=srp\n",
            "\n",
            "company name: magnarustechnologiesprivatelimited\n",
            "require skill: imageprocessing,python,c,cprogramming,operatingsystem,teamplayer,database,mysql,unix\n",
            "more info: https://www.timesjobs.com/job-detail/python-developer-magnarus-technologies-private-limited-hyderabad-secunderabad-1-to-3-yrs-jobid-l6loUoeRNOhzpSvf__PLUS__uAgZw==&source=srp\n",
            "\n",
            "company name: AxisTechnolabs\n",
            "require skill: python,css,userinteraction,bootstrap,openerp,database,xml,oops,html\n",
            "more info: https://www.timesjobs.com/job-detail/python-developer-axistechnolabs-ahmedabad-0-to-1-yrs-jobid-UqL7KgAUov1zpSvf__PLUS__uAgZw==&source=srp\n",
            "\n"
          ]
        }
      ],
      "source": [
        "from bs4 import BeautifulSoup\n",
        "import requests\n",
        "\n",
        "\n",
        "print('put some skill that you are not familiar with')\n",
        "unfamiliar_skill=input('>')\n",
        "print(f'filtering out {unfamiliar_skill}')\n",
        "\n",
        "\n",
        "html_text=requests.get(\"https://www.timesjobs.com/candidate/job-search.html?searchType=personalizedSearch&from=submit&searchTextSrc=as&searchTextText=Python&txtKeywords=Python&txtLocation=\").text\n",
        "soup=BeautifulSoup(html_text, 'lxml')\n",
        "jobs=soup.find_all('li',class_=\"clearfix job-bx wht-shd-bx\")\n",
        "for job in jobs:\n",
        "    published_date=job.find('span',class_='sim-posted').text\n",
        "    if 'few' in published_date:\n",
        "        company_name=job.find('h3',class_='joblist-comp-name').text.replace(' ','')\n",
        "        skills=job.find('span',class_='srp-skills').text.replace(' ','')\n",
        "        more_info=job.header.h2.a['href']\n",
        "        if unfamiliar_skill not in skills:\n",
        "            print(f\"company name: {company_name.strip()}\")\n",
        "            print(f\"require skill: {skills.strip()}\")\n",
        "            print(f\"more info: {more_info}\")\n",
        "\n",
        "            print('')"
      ]
    },
    {
      "cell_type": "code",
      "source": [],
      "metadata": {
        "id": "pPd2AfL7YFXu"
      },
      "id": "pPd2AfL7YFXu",
      "execution_count": null,
      "outputs": []
    }
  ],
  "metadata": {
    "kernelspec": {
      "display_name": "Python 3 (ipykernel)",
      "language": "python",
      "name": "python3"
    },
    "language_info": {
      "codemirror_mode": {
        "name": "ipython",
        "version": 3
      },
      "file_extension": ".py",
      "mimetype": "text/x-python",
      "name": "python",
      "nbconvert_exporter": "python",
      "pygments_lexer": "ipython3",
      "version": "3.11.5"
    },
    "colab": {
      "provenance": []
    }
  },
  "nbformat": 4,
  "nbformat_minor": 5
}